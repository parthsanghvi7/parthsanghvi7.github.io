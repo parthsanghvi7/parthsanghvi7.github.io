{
 "cells": [
  {
   "cell_type": "markdown",
   "id": "83d42252",
   "metadata": {},
   "source": [
    "## Assignment 4 (Parth Sanghvi)"
   ]
  },
  {
   "cell_type": "markdown",
   "id": "ca88b712",
   "metadata": {},
   "source": [
    "#### Let us import the necessary libraries first"
   ]
  },
  {
   "cell_type": "code",
   "execution_count": 1,
   "id": "ac98b9a7",
   "metadata": {},
   "outputs": [],
   "source": [
    "import matplotlib.pyplot as plt\n",
    "import numpy as np\n",
    "import pandas as pd\n",
    "import ipywidgets"
   ]
  },
  {
   "cell_type": "markdown",
   "id": "2ee1f61d",
   "metadata": {},
   "source": [
    "#### We then import the data from provided link. We enter the column names since its not provided in the data and we also parse the dates as 'date' and 'report_date'."
   ]
  },
  {
   "cell_type": "code",
   "execution_count": 2,
   "id": "40e85d86",
   "metadata": {},
   "outputs": [],
   "source": [
    "ufos = pd.read_csv(\"https://github.com/UIUC-iSchool-DataViz/is445_AOUAOG_fall2021/raw/master/week05/data/ufo-scrubbed-geocoded-time-standardized-00.csv\",\n",
    "                  names = [\"date\", \"city\", \"state\", \"country\",\n",
    "                          \"shape\", \"duration_seconds\", \"duration\",\n",
    "                          \"comment\", \"report_date\", \"latitude\", \"longitude\"],\n",
    "                  parse_dates = [\"date\", \"report_date\"])"
   ]
  },
  {
   "cell_type": "markdown",
   "id": "2be72ddf",
   "metadata": {},
   "source": [
    "#### We replace NA values in 'country', 'state' or 'shape' by \"unknown\""
   ]
  },
  {
   "cell_type": "code",
   "execution_count": 3,
   "id": "c65be8b7",
   "metadata": {},
   "outputs": [],
   "source": [
    "ufos = ufos.fillna({'country':'unknown', 'state': 'unknown', 'shape':'unknown'})"
   ]
  },
  {
   "cell_type": "code",
   "execution_count": 4,
   "id": "30e2fafa",
   "metadata": {},
   "outputs": [
    {
     "data": {
      "text/html": [
       "<div>\n",
       "<style scoped>\n",
       "    .dataframe tbody tr th:only-of-type {\n",
       "        vertical-align: middle;\n",
       "    }\n",
       "\n",
       "    .dataframe tbody tr th {\n",
       "        vertical-align: top;\n",
       "    }\n",
       "\n",
       "    .dataframe thead th {\n",
       "        text-align: right;\n",
       "    }\n",
       "</style>\n",
       "<table border=\"1\" class=\"dataframe\">\n",
       "  <thead>\n",
       "    <tr style=\"text-align: right;\">\n",
       "      <th></th>\n",
       "      <th>date</th>\n",
       "      <th>city</th>\n",
       "      <th>state</th>\n",
       "      <th>country</th>\n",
       "      <th>shape</th>\n",
       "      <th>duration_seconds</th>\n",
       "      <th>duration</th>\n",
       "      <th>comment</th>\n",
       "      <th>report_date</th>\n",
       "      <th>latitude</th>\n",
       "      <th>longitude</th>\n",
       "    </tr>\n",
       "  </thead>\n",
       "  <tbody>\n",
       "    <tr>\n",
       "      <th>0</th>\n",
       "      <td>1949-10-10 20:30:00</td>\n",
       "      <td>san marcos</td>\n",
       "      <td>tx</td>\n",
       "      <td>us</td>\n",
       "      <td>cylinder</td>\n",
       "      <td>2700.0</td>\n",
       "      <td>45 minutes</td>\n",
       "      <td>This event took place in early fall around 194...</td>\n",
       "      <td>2004-04-27</td>\n",
       "      <td>29.883056</td>\n",
       "      <td>-97.941111</td>\n",
       "    </tr>\n",
       "    <tr>\n",
       "      <th>1</th>\n",
       "      <td>1949-10-10 21:00:00</td>\n",
       "      <td>lackland afb</td>\n",
       "      <td>tx</td>\n",
       "      <td>unknown</td>\n",
       "      <td>light</td>\n",
       "      <td>7200.0</td>\n",
       "      <td>1-2 hrs</td>\n",
       "      <td>1949 Lackland AFB&amp;#44 TX.  Lights racing acros...</td>\n",
       "      <td>2005-12-16</td>\n",
       "      <td>29.384210</td>\n",
       "      <td>-98.581082</td>\n",
       "    </tr>\n",
       "    <tr>\n",
       "      <th>2</th>\n",
       "      <td>1955-10-10 17:00:00</td>\n",
       "      <td>chester (uk/england)</td>\n",
       "      <td>unknown</td>\n",
       "      <td>gb</td>\n",
       "      <td>circle</td>\n",
       "      <td>20.0</td>\n",
       "      <td>20 seconds</td>\n",
       "      <td>Green/Orange circular disc over Chester&amp;#44 En...</td>\n",
       "      <td>2008-01-21</td>\n",
       "      <td>53.200000</td>\n",
       "      <td>-2.916667</td>\n",
       "    </tr>\n",
       "    <tr>\n",
       "      <th>3</th>\n",
       "      <td>1956-10-10 21:00:00</td>\n",
       "      <td>edna</td>\n",
       "      <td>tx</td>\n",
       "      <td>us</td>\n",
       "      <td>circle</td>\n",
       "      <td>20.0</td>\n",
       "      <td>1/2 hour</td>\n",
       "      <td>My older brother and twin sister were leaving ...</td>\n",
       "      <td>2004-01-17</td>\n",
       "      <td>28.978333</td>\n",
       "      <td>-96.645833</td>\n",
       "    </tr>\n",
       "    <tr>\n",
       "      <th>4</th>\n",
       "      <td>1960-10-10 20:00:00</td>\n",
       "      <td>kaneohe</td>\n",
       "      <td>hi</td>\n",
       "      <td>us</td>\n",
       "      <td>light</td>\n",
       "      <td>900.0</td>\n",
       "      <td>15 minutes</td>\n",
       "      <td>AS a Marine 1st Lt. flying an FJ4B fighter/att...</td>\n",
       "      <td>2004-01-22</td>\n",
       "      <td>21.418056</td>\n",
       "      <td>-157.803611</td>\n",
       "    </tr>\n",
       "    <tr>\n",
       "      <th>...</th>\n",
       "      <td>...</td>\n",
       "      <td>...</td>\n",
       "      <td>...</td>\n",
       "      <td>...</td>\n",
       "      <td>...</td>\n",
       "      <td>...</td>\n",
       "      <td>...</td>\n",
       "      <td>...</td>\n",
       "      <td>...</td>\n",
       "      <td>...</td>\n",
       "      <td>...</td>\n",
       "    </tr>\n",
       "    <tr>\n",
       "      <th>80327</th>\n",
       "      <td>2013-09-09 21:15:00</td>\n",
       "      <td>nashville</td>\n",
       "      <td>tn</td>\n",
       "      <td>us</td>\n",
       "      <td>light</td>\n",
       "      <td>600.0</td>\n",
       "      <td>10 minutes</td>\n",
       "      <td>Round from the distance/slowly changing colors...</td>\n",
       "      <td>2013-09-30</td>\n",
       "      <td>36.165833</td>\n",
       "      <td>-86.784444</td>\n",
       "    </tr>\n",
       "    <tr>\n",
       "      <th>80328</th>\n",
       "      <td>2013-09-09 22:00:00</td>\n",
       "      <td>boise</td>\n",
       "      <td>id</td>\n",
       "      <td>us</td>\n",
       "      <td>circle</td>\n",
       "      <td>1200.0</td>\n",
       "      <td>20 minutes</td>\n",
       "      <td>Boise&amp;#44 ID&amp;#44 spherical&amp;#44 20 min&amp;#44 10 r...</td>\n",
       "      <td>2013-09-30</td>\n",
       "      <td>43.613611</td>\n",
       "      <td>-116.202500</td>\n",
       "    </tr>\n",
       "    <tr>\n",
       "      <th>80329</th>\n",
       "      <td>2013-09-09 22:00:00</td>\n",
       "      <td>napa</td>\n",
       "      <td>ca</td>\n",
       "      <td>us</td>\n",
       "      <td>other</td>\n",
       "      <td>1200.0</td>\n",
       "      <td>hour</td>\n",
       "      <td>Napa UFO&amp;#44</td>\n",
       "      <td>2013-09-30</td>\n",
       "      <td>38.297222</td>\n",
       "      <td>-122.284444</td>\n",
       "    </tr>\n",
       "    <tr>\n",
       "      <th>80330</th>\n",
       "      <td>2013-09-09 22:20:00</td>\n",
       "      <td>vienna</td>\n",
       "      <td>va</td>\n",
       "      <td>us</td>\n",
       "      <td>circle</td>\n",
       "      <td>5.0</td>\n",
       "      <td>5 seconds</td>\n",
       "      <td>Saw a five gold lit cicular craft moving fastl...</td>\n",
       "      <td>2013-09-30</td>\n",
       "      <td>38.901111</td>\n",
       "      <td>-77.265556</td>\n",
       "    </tr>\n",
       "    <tr>\n",
       "      <th>80331</th>\n",
       "      <td>2013-09-09 23:00:00</td>\n",
       "      <td>edmond</td>\n",
       "      <td>ok</td>\n",
       "      <td>us</td>\n",
       "      <td>cigar</td>\n",
       "      <td>1020.0</td>\n",
       "      <td>17 minutes</td>\n",
       "      <td>2 witnesses 2  miles apart&amp;#44 Red &amp;amp; White...</td>\n",
       "      <td>2013-09-30</td>\n",
       "      <td>35.652778</td>\n",
       "      <td>-97.477778</td>\n",
       "    </tr>\n",
       "  </tbody>\n",
       "</table>\n",
       "<p>80332 rows × 11 columns</p>\n",
       "</div>"
      ],
      "text/plain": [
       "                     date                  city    state  country     shape  \\\n",
       "0     1949-10-10 20:30:00            san marcos       tx       us  cylinder   \n",
       "1     1949-10-10 21:00:00          lackland afb       tx  unknown     light   \n",
       "2     1955-10-10 17:00:00  chester (uk/england)  unknown       gb    circle   \n",
       "3     1956-10-10 21:00:00                  edna       tx       us    circle   \n",
       "4     1960-10-10 20:00:00               kaneohe       hi       us     light   \n",
       "...                   ...                   ...      ...      ...       ...   \n",
       "80327 2013-09-09 21:15:00             nashville       tn       us     light   \n",
       "80328 2013-09-09 22:00:00                 boise       id       us    circle   \n",
       "80329 2013-09-09 22:00:00                  napa       ca       us     other   \n",
       "80330 2013-09-09 22:20:00                vienna       va       us    circle   \n",
       "80331 2013-09-09 23:00:00                edmond       ok       us     cigar   \n",
       "\n",
       "       duration_seconds    duration  \\\n",
       "0                2700.0  45 minutes   \n",
       "1                7200.0     1-2 hrs   \n",
       "2                  20.0  20 seconds   \n",
       "3                  20.0    1/2 hour   \n",
       "4                 900.0  15 minutes   \n",
       "...                 ...         ...   \n",
       "80327             600.0  10 minutes   \n",
       "80328            1200.0  20 minutes   \n",
       "80329            1200.0        hour   \n",
       "80330               5.0   5 seconds   \n",
       "80331            1020.0  17 minutes   \n",
       "\n",
       "                                                 comment report_date  \\\n",
       "0      This event took place in early fall around 194...  2004-04-27   \n",
       "1      1949 Lackland AFB&#44 TX.  Lights racing acros...  2005-12-16   \n",
       "2      Green/Orange circular disc over Chester&#44 En...  2008-01-21   \n",
       "3      My older brother and twin sister were leaving ...  2004-01-17   \n",
       "4      AS a Marine 1st Lt. flying an FJ4B fighter/att...  2004-01-22   \n",
       "...                                                  ...         ...   \n",
       "80327  Round from the distance/slowly changing colors...  2013-09-30   \n",
       "80328  Boise&#44 ID&#44 spherical&#44 20 min&#44 10 r...  2013-09-30   \n",
       "80329                                       Napa UFO&#44  2013-09-30   \n",
       "80330  Saw a five gold lit cicular craft moving fastl...  2013-09-30   \n",
       "80331  2 witnesses 2  miles apart&#44 Red &amp; White...  2013-09-30   \n",
       "\n",
       "        latitude   longitude  \n",
       "0      29.883056  -97.941111  \n",
       "1      29.384210  -98.581082  \n",
       "2      53.200000   -2.916667  \n",
       "3      28.978333  -96.645833  \n",
       "4      21.418056 -157.803611  \n",
       "...          ...         ...  \n",
       "80327  36.165833  -86.784444  \n",
       "80328  43.613611 -116.202500  \n",
       "80329  38.297222 -122.284444  \n",
       "80330  38.901111  -77.265556  \n",
       "80331  35.652778  -97.477778  \n",
       "\n",
       "[80332 rows x 11 columns]"
      ]
     },
     "execution_count": 4,
     "metadata": {},
     "output_type": "execute_result"
    }
   ],
   "source": [
    "ufos"
   ]
  },
  {
   "cell_type": "markdown",
   "id": "5ca69541",
   "metadata": {},
   "source": [
    "### 1. Scatter plot"
   ]
  },
  {
   "cell_type": "markdown",
   "id": "ce642548",
   "metadata": {},
   "source": [
    "#### I have not considered 5 of the 10 columns present in the data. I removed 'city' and 'state' because they were categorical variables and there were lot of unique valeues giving little to no information. I removed 'date', 'report_date' and 'duration' because they were not in numerical format and they will lose their meaning if we try to convert them into numerical form. 'comment' was removed because it cannot be visualized on a graph.\n",
    "#### I will allow the user to pick any two columns from the above selected five columns. I realize that some of the 2-column combinations will not spit our a chart that makes sense, but this is how the user will understand which columns should be used where to create a scatter plot that provides useful information. Although both the axis supporting categorical variables is not ideal, I want the user to see the effect of using categorical columns in non-ideal places.\n",
    "#### We are then left with 2 categorical and 3 numerical variables: 'country', 'shape', 'duration_seconds', 'latitude' and 'longitude'.\n",
    "#### I took 'country' column because there were only 6 unique values which could be visualized easily and contain information that we can use. Similarly there were only 30 values of shape which contained information that we can use in future. The numerical columns were selected because they were numerical."
   ]
  },
  {
   "cell_type": "markdown",
   "id": "b8946c63",
   "metadata": {},
   "source": [
    "#### For the x-axis and y-axis, I created a dropdown so that user can select any of the 5 columns to be axis. I also added a function that rotates the tickers on x-axis if the axis selected is 'shape'. This way the 'shape' names will not overlap'"
   ]
  },
  {
   "cell_type": "markdown",
   "id": "4e0e912e",
   "metadata": {},
   "source": [
    "#### For color maps, I first provided a dropdown for the user to select which colormap do they want to use on the plot. I gave only 'miscelaneous' color map choices for the user to select from. This variable is then input as cmap attribute in 'scatter' plot function. For color scaling I used log of duration in seconds as done in class."
   ]
  },
  {
   "cell_type": "markdown",
   "id": "38f28a2f",
   "metadata": {},
   "source": [
    "#### I used the 'interactive' function(which is part of the ipywidgets library) to display the widgets on the scatter plot function."
   ]
  },
  {
   "cell_type": "code",
   "execution_count": 5,
   "id": "c62c2140",
   "metadata": {},
   "outputs": [
    {
     "data": {
      "application/vnd.jupyter.widget-view+json": {
       "model_id": "2a3d99634c7b4fa19ec625a77a4f2599",
       "version_major": 2,
       "version_minor": 0
      },
      "text/plain": [
       "interactive(children=(Dropdown(description='x', options=('longitude', 'latitude', 'country', 'shape', 'duratio…"
      ]
     },
     "metadata": {},
     "output_type": "display_data"
    }
   ],
   "source": [
    "from ipywidgets import interactive\n",
    "\n",
    "def sct_plot(xaxis, yaxis, color):\n",
    "    x = ufos[xaxis]\n",
    "    y = ufos[yaxis]\n",
    "    plt.scatter(x, y, c=np.log10(ufos['duration_seconds']), cmap=color)\n",
    "    if xaxis=='shape':\n",
    "        plt.xticks(rotation=90)\n",
    "    plt.xlabel(xaxis)\n",
    "    plt.ylabel(yaxis)\n",
    "    plt.title('Scatter plot with custom axes')\n",
    "    plt.show()\n",
    "\n",
    "plot1 = interactive(sct_plot, \n",
    "                  xaxis = ipywidgets.Dropdown(\n",
    "                      value='longitude',\n",
    "                      options=['longitude', 'latitude', 'country', 'shape', 'duration_seconds'],\n",
    "                      description='x'\n",
    "                  ),\n",
    "                   yaxis = ipywidgets.Dropdown(\n",
    "                      value='latitude',\n",
    "                      options=['longitude', 'latitude', 'country', 'shape', 'duration_seconds'],\n",
    "                      description='y'\n",
    "                  ),\n",
    "                   color = ipywidgets.Dropdown(\n",
    "                      value='rainbow',\n",
    "                      options=['flag', 'prism', 'ocean', 'gist_earth', 'terrain', 'gist_stern',\n",
    "                               'gnuplot', 'gnuplot2', 'CMRmap', 'cubehelix', 'brg',\n",
    "                               'gist_rainbow', 'rainbow', 'jet', 'turbo', 'nipy_spectral','gist_ncar'],\n",
    "                      description='Color Map'\n",
    "                   )\n",
    "                  )\n",
    "plot1"
   ]
  },
  {
   "cell_type": "markdown",
   "id": "146c0f1c",
   "metadata": {},
   "source": [
    "### 2. Histogram/Bar Plot"
   ]
  },
  {
   "cell_type": "markdown",
   "id": "44e836fb",
   "metadata": {},
   "source": [
    "#### I had to write an if-else statement in such a way that if the axis selected is categorical, then we plot a bar chart else if the axis is numerical then we plot a histogram. I used the same five columns that I used in the previous plot. The reasoning for choosing these 5 columns is the same."
   ]
  },
  {
   "cell_type": "markdown",
   "id": "d2f98314",
   "metadata": {},
   "source": [
    "#### So the function first checked for the number of unique values in the column, if that number is above 40, it means that the column is numerical and we plot a histogram, else we will plot a bar chart.\n",
    "\n",
    "#### For the histogram, I used a simple plt.hist() function and input the axis, and number of bins as attributes.\n",
    "\n",
    "#### For the bar chart, I counted the frequency of unique values in a separate variable and stored list of unique values in a separate variable. I then printed the chart using plt.bar() with elements and frequency of unique values as attributes.\n",
    "\n",
    "#### I used the same interactive funciton used in the previous plot to create this chart along with the widgets."
   ]
  },
  {
   "cell_type": "code",
   "execution_count": 6,
   "id": "164c4635",
   "metadata": {},
   "outputs": [
    {
     "data": {
      "application/vnd.jupyter.widget-view+json": {
       "model_id": "d39996f3f26b4ac2b8e4b32d90d086ac",
       "version_major": 2,
       "version_minor": 0
      },
      "text/plain": [
       "interactive(children=(Dropdown(description='Column', options=('longitude', 'latitude', 'country', 'shape', 'du…"
      ]
     },
     "metadata": {},
     "output_type": "display_data"
    }
   ],
   "source": [
    "def agg_plot(axis, bins):\n",
    "    x = ufos[axis]\n",
    "    if x.nunique()>40:\n",
    "        plt.hist(x, bins)\n",
    "    else:\n",
    "        counts = x.value_counts().tolist()\n",
    "        elements = x.unique().tolist()\n",
    "        plt.bar(elements, height=counts)\n",
    "    if axis=='shape':\n",
    "        plt.xticks(rotation=90)\n",
    "    plt.ylabel('Count')\n",
    "    plt.xlabel(axis)\n",
    "    plt.title('Aggregate values of column')\n",
    "    plt.show()\n",
    "\n",
    "plot2 = interactive(agg_plot, \n",
    "                  axis = ipywidgets.Dropdown(\n",
    "                      value='longitude',\n",
    "                      options=['longitude', 'latitude', 'country', 'shape', 'duration_seconds'],\n",
    "                      description='Column'\n",
    "                  ),\n",
    "                   bins = ipywidgets.IntSlider(\n",
    "                            value=3,\n",
    "                            min=1, max=30, step=1,\n",
    "                            description='No. of bins'\n",
    "                   )\n",
    "                  )\n",
    "plot2"
   ]
  },
  {
   "cell_type": "markdown",
   "id": "c5e518f1",
   "metadata": {},
   "source": [
    "I used multiple references to learn more about types of widgets and the 'interactive' function used in the code.\n",
    "\n",
    "References used for first part of assignment:\n",
    "1. https://stackoverflow.com/questions/52238567/have-2-ipywidgets-acting-on-one-matplotlib-plot-in-jupyter-python\n",
    "2. https://kapernikov.com/ipywidgets-with-matplotlib/\n",
    "3. https://stackabuse.com/rotate-axis-labels-in-matplotlib/"
   ]
  },
  {
   "cell_type": "code",
   "execution_count": null,
   "id": "e2b9b40f",
   "metadata": {},
   "outputs": [],
   "source": []
  }
 ],
 "metadata": {
  "kernelspec": {
   "display_name": "Python 3 (ipykernel)",
   "language": "python",
   "name": "python3"
  },
  "language_info": {
   "codemirror_mode": {
    "name": "ipython",
    "version": 3
   },
   "file_extension": ".py",
   "mimetype": "text/x-python",
   "name": "python",
   "nbconvert_exporter": "python",
   "pygments_lexer": "ipython3",
   "version": "3.8.8"
  }
 },
 "nbformat": 4,
 "nbformat_minor": 5
}
